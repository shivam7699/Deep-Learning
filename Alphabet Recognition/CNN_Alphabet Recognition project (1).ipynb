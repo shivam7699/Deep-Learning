{
 "cells": [
  {
   "cell_type": "markdown",
   "id": "7d6ef784",
   "metadata": {},
   "source": [
    "# Importing Libraries"
   ]
  },
  {
   "cell_type": "code",
   "execution_count": 1,
   "id": "5b896329",
   "metadata": {},
   "outputs": [],
   "source": [
    "import pandas as pd\n",
    "import matplotlib.pyplot as plt"
   ]
  },
  {
   "cell_type": "markdown",
   "id": "d74da0bf",
   "metadata": {},
   "source": [
    "# Read Data"
   ]
  },
  {
   "cell_type": "code",
   "execution_count": 2,
   "id": "a58c14ab",
   "metadata": {},
   "outputs": [],
   "source": [
    "df = pd.read_csv(\"A_Z Handwritten Data.csv\")"
   ]
  },
  {
   "cell_type": "code",
   "execution_count": 3,
   "id": "19abe821",
   "metadata": {},
   "outputs": [
    {
     "data": {
      "text/plain": [
       "(372450, 785)"
      ]
     },
     "execution_count": 3,
     "metadata": {},
     "output_type": "execute_result"
    }
   ],
   "source": [
    "df.shape"
   ]
  },
  {
   "cell_type": "markdown",
   "id": "59ac7b6b",
   "metadata": {},
   "source": [
    "# Finding X and Y cols"
   ]
  },
  {
   "cell_type": "code",
   "execution_count": 4,
   "id": "453f3a02",
   "metadata": {},
   "outputs": [],
   "source": [
    "X = df[df.columns[1:]]\n",
    "y = df['0']"
   ]
  },
  {
   "cell_type": "code",
   "execution_count": 5,
   "id": "190e3a6e",
   "metadata": {},
   "outputs": [],
   "source": [
    "from sklearn.model_selection import train_test_split\n",
    "X_train, X_test, y_train, y_test = train_test_split(X,y, test_size=0.2 , random_state=17)"
   ]
  },
  {
   "cell_type": "code",
   "execution_count": 6,
   "id": "30f3e4fb",
   "metadata": {},
   "outputs": [
    {
     "data": {
      "text/plain": [
       "(297960, 784)"
      ]
     },
     "execution_count": 6,
     "metadata": {},
     "output_type": "execute_result"
    }
   ],
   "source": [
    "X_train.shape"
   ]
  },
  {
   "cell_type": "code",
   "execution_count": 7,
   "id": "64b44cfa",
   "metadata": {},
   "outputs": [],
   "source": [
    "X_train = X_train.values.reshape(-1,28,28,1)/255\n",
    "X_test=  X_test.values.reshape(-1,28,28,1)/255"
   ]
  },
  {
   "cell_type": "code",
   "execution_count": 8,
   "id": "d50c4e10",
   "metadata": {},
   "outputs": [
    {
     "data": {
      "text/plain": [
       "(74490, 28, 28, 1)"
      ]
     },
     "execution_count": 8,
     "metadata": {},
     "output_type": "execute_result"
    }
   ],
   "source": [
    "X_test.shape"
   ]
  },
  {
   "cell_type": "markdown",
   "id": "04dd6c12",
   "metadata": {},
   "source": [
    "# model bulding"
   ]
  },
  {
   "cell_type": "code",
   "execution_count": 9,
   "id": "e04eb686",
   "metadata": {},
   "outputs": [],
   "source": [
    "from tensorflow.keras.utils import to_categorical"
   ]
  },
  {
   "cell_type": "code",
   "execution_count": 10,
   "id": "55db269d",
   "metadata": {},
   "outputs": [],
   "source": [
    "y_train = to_categorical(y_train, num_classes=26)\n",
    "y_test = to_categorical(y_test, num_classes=26)"
   ]
  },
  {
   "cell_type": "code",
   "execution_count": 11,
   "id": "544b36c5",
   "metadata": {},
   "outputs": [
    {
     "data": {
      "text/plain": [
       "(74490, 26)"
      ]
     },
     "execution_count": 11,
     "metadata": {},
     "output_type": "execute_result"
    }
   ],
   "source": [
    "y_test.shape"
   ]
  },
  {
   "cell_type": "code",
   "execution_count": 12,
   "id": "69f6048e",
   "metadata": {},
   "outputs": [],
   "source": [
    "from tensorflow.keras.models import Sequential\n",
    "from tensorflow.keras.layers import Dense, Conv2D, MaxPool2D , Flatten"
   ]
  },
  {
   "cell_type": "code",
   "execution_count": 13,
   "id": "4f5177da",
   "metadata": {},
   "outputs": [],
   "source": [
    "model = Sequential()\n",
    "model.add(Conv2D(16,(3,3), activation='relu', input_shape=(28,28,1) ))\n",
    "model.add(MaxPool2D())\n",
    "model.add(Conv2D(32,(3,3), activation='relu' ))\n",
    "model.add(MaxPool2D())\n",
    "model.add(Conv2D(64,(3,3), activation='relu' ))\n",
    "model.add(Flatten())\n",
    "model.add(Dense(26, activation='softmax'))\n",
    "\n",
    "model.compile(loss='categorical_crossentropy', metrics=['accuracy'])"
   ]
  },
  {
   "cell_type": "code",
   "execution_count": 14,
   "id": "b202c3c9",
   "metadata": {
    "scrolled": true
   },
   "outputs": [
    {
     "name": "stdout",
     "output_type": "stream",
     "text": [
      "Epoch 1/20\n",
      "4656/4656 [==============================] - 43s 9ms/step - loss: 0.1690 - accuracy: 0.9526 - val_loss: 0.0732 - val_accuracy: 0.9802\n",
      "Epoch 2/20\n",
      "4656/4656 [==============================] - 43s 9ms/step - loss: 0.0659 - accuracy: 0.9828 - val_loss: 0.0705 - val_accuracy: 0.9809\n",
      "Epoch 3/20\n",
      "4656/4656 [==============================] - 43s 9ms/step - loss: 0.0567 - accuracy: 0.9852 - val_loss: 0.0612 - val_accuracy: 0.9829\n",
      "Epoch 4/20\n",
      "4656/4656 [==============================] - 44s 9ms/step - loss: 0.0534 - accuracy: 0.9860 - val_loss: 0.0560 - val_accuracy: 0.9844\n",
      "Epoch 5/20\n",
      "4656/4656 [==============================] - 42s 9ms/step - loss: 0.0528 - accuracy: 0.9862 - val_loss: 0.0606 - val_accuracy: 0.9848\n",
      "Epoch 6/20\n",
      "4656/4656 [==============================] - 43s 9ms/step - loss: 0.0532 - accuracy: 0.9860 - val_loss: 0.0581 - val_accuracy: 0.9844\n",
      "Epoch 7/20\n",
      "4656/4656 [==============================] - 45s 10ms/step - loss: 0.0529 - accuracy: 0.9861 - val_loss: 0.0825 - val_accuracy: 0.9769\n",
      "Epoch 8/20\n",
      "4656/4656 [==============================] - 46s 10ms/step - loss: 0.0526 - accuracy: 0.9863 - val_loss: 0.0582 - val_accuracy: 0.9852\n",
      "Epoch 9/20\n",
      "4656/4656 [==============================] - 45s 10ms/step - loss: 0.0536 - accuracy: 0.9859 - val_loss: 0.0536 - val_accuracy: 0.9861\n",
      "Epoch 10/20\n",
      "4656/4656 [==============================] - 45s 10ms/step - loss: 0.0552 - accuracy: 0.9853 - val_loss: 0.0599 - val_accuracy: 0.9835\n",
      "Epoch 11/20\n",
      "4656/4656 [==============================] - 44s 9ms/step - loss: 0.0552 - accuracy: 0.9856 - val_loss: 0.0617 - val_accuracy: 0.9854\n",
      "Epoch 12/20\n",
      "4656/4656 [==============================] - 43s 9ms/step - loss: 0.0575 - accuracy: 0.9851 - val_loss: 0.0727 - val_accuracy: 0.9833\n",
      "Epoch 13/20\n",
      "4656/4656 [==============================] - 43s 9ms/step - loss: 0.0578 - accuracy: 0.9852 - val_loss: 0.0827 - val_accuracy: 0.9803\n",
      "Epoch 14/20\n",
      "4656/4656 [==============================] - 44s 9ms/step - loss: 0.0589 - accuracy: 0.9849 - val_loss: 0.0614 - val_accuracy: 0.9840\n",
      "Epoch 15/20\n",
      "4656/4656 [==============================] - 44s 9ms/step - loss: 0.0606 - accuracy: 0.9845 - val_loss: 0.0719 - val_accuracy: 0.9810\n",
      "Epoch 16/20\n",
      "4656/4656 [==============================] - 44s 9ms/step - loss: 0.0621 - accuracy: 0.9839 - val_loss: 0.0750 - val_accuracy: 0.9818\n",
      "Epoch 17/20\n",
      "4656/4656 [==============================] - 43s 9ms/step - loss: 0.0638 - accuracy: 0.9836 - val_loss: 0.0775 - val_accuracy: 0.9834\n",
      "Epoch 18/20\n",
      "4656/4656 [==============================] - 43s 9ms/step - loss: 0.0658 - accuracy: 0.9832 - val_loss: 0.0916 - val_accuracy: 0.9781\n",
      "Epoch 19/20\n",
      "4656/4656 [==============================] - 43s 9ms/step - loss: 0.0661 - accuracy: 0.9832 - val_loss: 0.0754 - val_accuracy: 0.9808\n",
      "Epoch 20/20\n",
      "4656/4656 [==============================] - 46s 10ms/step - loss: 0.0675 - accuracy: 0.9830 - val_loss: 0.0702 - val_accuracy: 0.9828\n"
     ]
    }
   ],
   "source": [
    "history= model.fit(X_train,y_train, validation_data=(X_test,y_test), epochs=20, batch_size=64)"
   ]
  },
  {
   "cell_type": "code",
   "execution_count": 15,
   "id": "46ccc390",
   "metadata": {},
   "outputs": [
    {
     "data": {
      "text/plain": [
       "[<matplotlib.lines.Line2D at 0x2b900c1deb0>]"
      ]
     },
     "execution_count": 15,
     "metadata": {},
     "output_type": "execute_result"
    },
    {
     "data": {
      "image/png": "[encoded data removed]",
      "text/plain": [
       "<Figure size 432x288 with 1 Axes>"
      ]
     },
     "metadata": {
      "needs_background": "light"
     },
     "output_type": "display_data"
    }
   ],
   "source": [
    "plt.plot(history.history['loss'])"
   ]
  },
  {
   "cell_type": "code",
   "execution_count": 16,
   "id": "8aad54d6",
   "metadata": {},
   "outputs": [
    {
     "name": "stdout",
     "output_type": "stream",
     "text": [
      "2328/2328 [==============================] - 4s 2ms/step - loss: 0.0702 - accuracy: 0.9828\n"
     ]
    },
    {
     "data": {
      "text/plain": [
       "[0.07019499689340591, 0.9828030467033386]"
      ]
     },
     "execution_count": 16,
     "metadata": {},
     "output_type": "execute_result"
    }
   ],
   "source": [
    "model.evaluate(X_test,y_test)"
   ]
  },
  {
   "cell_type": "code",
   "execution_count": null,
   "id": "878e46f6",
   "metadata": {},
   "outputs": [],
   "source": []
  },
  {
   "cell_type": "code",
   "execution_count": 17,
   "id": "b0733009",
   "metadata": {},
   "outputs": [],
   "source": []
  },
  {
   "cell_type": "code",
   "execution_count": 18,
   "id": "03ec5fc2",
   "metadata": {},
   "outputs": [],
   "source": []
  },
  {
   "cell_type": "code",
   "execution_count": 19,
   "id": "120b7c47",
   "metadata": {},
   "outputs": [],
   "source": []
  },
  {
   "cell_type": "code",
   "execution_count": null,
   "id": "7ec223fe",
   "metadata": {},
   "outputs": [],
   "source": []
  },
  {
   "cell_type": "code",
   "execution_count": null,
   "id": "ecc04280",
   "metadata": {},
   "outputs": [],
   "source": [
    "  "
   ]
  },
  {
   "cell_type": "code",
   "execution_count": null,
   "id": "ff2b80f7",
   "metadata": {},
   "outputs": [],
   "source": []
  }
 ],
 "metadata": {
  "kernelspec": {
   "display_name": "Python [conda env:DSML17_env]",
   "language": "python",
   "name": "conda-env-DSML17_env-py"
  },
  "language_info": {
   "codemirror_mode": {
    "name": "ipython",
    "version": 3
   },
   "file_extension": ".py",
   "mimetype": "text/x-python",
   "name": "python",
   "nbconvert_exporter": "python",
   "pygments_lexer": "ipython3",
   "version": "3.9.13"
  }
 },
 "nbformat": 4,
 "nbformat_minor": 5
}
