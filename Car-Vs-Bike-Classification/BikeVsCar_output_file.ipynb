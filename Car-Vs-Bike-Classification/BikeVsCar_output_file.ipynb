{
 "cells": [
  {
   "cell_type": "code",
   "execution_count": 1,
   "id": "e84a804a",
   "metadata": {},
   "outputs": [],
   "source": [
    "import cv2, os\n",
    "import pickle"
   ]
  },
  {
   "cell_type": "code",
   "execution_count": 2,
   "id": "d50846e1",
   "metadata": {},
   "outputs": [],
   "source": [
    "files = os.listdir('test_data/')\n"
   ]
  },
  {
   "cell_type": "code",
   "execution_count": 3,
   "id": "289adde1",
   "metadata": {},
   "outputs": [],
   "source": [
    "from tensorflow.keras.models import load_model\n",
    "model = load_model('bikeVscar.h5',compile=False) "
   ]
  },
  {
   "cell_type": "code",
   "execution_count": 4,
   "id": "59a150be",
   "metadata": {},
   "outputs": [],
   "source": [
    "def predict(path):\n",
    "    img = cv2.imread(path)\n",
    "    img = cv2.resize(img,(224,224))\n",
    "    img = img.reshape(1,224,224,3)/255\n",
    "    i= model.predict_on_batch(img).argmax()\n",
    "    return 'bike' if i==0 else 'car'"
   ]
  },
  {
   "cell_type": "code",
   "execution_count": 5,
   "id": "5414f85a",
   "metadata": {},
   "outputs": [
    {
     "name": "stdout",
     "output_type": "stream",
     "text": [
      "Bike (64).jpg bike\n",
      "Bike (65).jpeg bike\n",
      "Bike (69).jpg bike\n",
      "Bike (73).jpeg bike\n",
      "Bike (86).jpeg bike\n",
      "Car (126).jpeg car\n",
      "Car (128).jpeg car\n",
      "Car (76).jpeg car\n",
      "Car (85).jpeg car\n",
      "Car (86).jpeg bike\n"
     ]
    }
   ],
   "source": [
    "for file in files:\n",
    "    print(file,predict('test_data/' + file))"
   ]
  },
  {
   "cell_type": "code",
   "execution_count": null,
   "id": "fa581148",
   "metadata": {},
   "outputs": [],
   "source": []
  }
 ],
 "metadata": {
  "kernelspec": {
   "display_name": "Python [conda env:DSML17_env]",
   "language": "python",
   "name": "conda-env-DSML17_env-py"
  },
  "language_info": {
   "codemirror_mode": {
    "name": "ipython",
    "version": 3
   },
   "file_extension": ".py",
   "mimetype": "text/x-python",
   "name": "python",
   "nbconvert_exporter": "python",
   "pygments_lexer": "ipython3",
   "version": "3.9.13"
  }
 },
 "nbformat": 4,
 "nbformat_minor": 5
}
