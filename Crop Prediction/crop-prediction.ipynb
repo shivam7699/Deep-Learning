{
 "cells": [
  {
   "cell_type": "code",
   "execution_count": 1,
   "metadata": {
    "_cell_guid": "b1076dfc-b9ad-4769-8c92-a6c4dae69d19",
    "_uuid": "8f2839f25d086af736a60e9eeb907d3b93b6e0e5",
    "execution": {
     "iopub.execute_input": "2023-01-17T19:43:34.347395Z",
     "iopub.status.busy": "2023-01-17T19:43:34.345190Z",
     "iopub.status.idle": "2023-01-17T19:43:34.373700Z",
     "shell.execute_reply": "2023-01-17T19:43:34.372892Z",
     "shell.execute_reply.started": "2023-01-17T19:43:34.347304Z"
    }
   },
   "outputs": [
    {
     "data": {
      "text/plain": [
       "\"for dirname, _, filenames in os.walk('/kaggle/input'):\\n    for filename in filenames:\\n        print(os.path.join(dirname, filename))\""
      ]
     },
     "execution_count": 1,
     "metadata": {},
     "output_type": "execute_result"
    }
   ],
   "source": [
    "# This Python 3 environment comes with many helpful analytics libraries installed\n",
    "# It is defined by the kaggle/python Docker image: https://github.com/kaggle/docker-python\n",
    "# For example, here's several helpful packages to load\n",
    "\n",
    "import numpy as np # linear algebra\n",
    "import pandas as pd # data processing, CSV file I/O (e.g. pd.read_csv)\n",
    "\n",
    "# Input data files are available in the read-only \"../input/\" directory\n",
    "# For example, running this (by clicking run or pressing Shift+Enter) will list all files under the input directory\n",
    "\n",
    "import os\n",
    "'''for dirname, _, filenames in os.walk('/kaggle/input'):\n",
    "    for filename in filenames:\n",
    "        print(os.path.join(dirname, filename))'''\n",
    "\n",
    "# You can write up to 20GB to the current directory (/kaggle/working/) that gets preserved as output when you create a version using \"Save & Run All\" \n",
    "# You can also write temporary files to /kaggle/temp/, but they won't be saved outside of the current session"
   ]
  },
  {
   "cell_type": "code",
   "execution_count": 1,
   "metadata": {
    "execution": {
     "iopub.execute_input": "2023-01-20T15:15:36.280385Z",
     "iopub.status.busy": "2023-01-20T15:15:36.279846Z",
     "iopub.status.idle": "2023-01-20T15:15:36.319584Z",
     "shell.execute_reply": "2023-01-20T15:15:36.318273Z",
     "shell.execute_reply.started": "2023-01-20T15:15:36.280274Z"
    }
   },
   "outputs": [],
   "source": [
    "import os\n",
    "import shutil\n",
    "\n",
    "def merge_folders(new_folder_name, *folders_to_merge):\n",
    "    if not os.path.exists(new_folder_name):\n",
    "        os.makedirs(new_folder_name)\n",
    "\n",
    "    for folder in folders_to_merge:\n",
    "        for item in os.listdir(folder):\n",
    "            s = os.path.join(folder, item)\n",
    "            d = os.path.join(new_folder_name, item)\n",
    "            if os.path.isdir(s):\n",
    "                if item.lower() in os.listdir(\"/kaggle/working/\"+new_folder_name):\n",
    "                    files = os.listdir(s)\n",
    "                    \n",
    "                    for file in files:\n",
    "                        d = d.lower()\n",
    "                        j = os.path.join(s, file)\n",
    "                        k = os.path.join(d, file)\n",
    "                        k = \"/kaggle/working/\"+k\n",
    "                        if file in os.listdir(d):\n",
    "                            nw = k.replace('.','a.')\n",
    "                            os.rename(k ,nw)\n",
    "                            shutil.copy2(j,k)\n",
    "                        else:\n",
    "                            shutil.copy2(j,k)          \n",
    "                else:\n",
    "                    shutil.copytree(s, d)\n",
    "            else:\n",
    "                shutil.copy2(s, d)"
   ]
  },
  {
   "cell_type": "markdown",
   "metadata": {
    "execution": {
     "iopub.execute_input": "2023-01-18T14:55:31.120722Z",
     "iopub.status.busy": "2023-01-18T14:55:31.120227Z",
     "iopub.status.idle": "2023-01-18T14:55:31.176177Z",
     "shell.execute_reply": "2023-01-18T14:55:31.174073Z",
     "shell.execute_reply.started": "2023-01-18T14:55:31.120673Z"
    }
   },
   "source": [
    "shutil.rmtree(\"final_crop\")"
   ]
  },
  {
   "cell_type": "code",
   "execution_count": 3,
   "metadata": {
    "execution": {
     "iopub.execute_input": "2023-01-20T15:15:55.333019Z",
     "iopub.status.busy": "2023-01-20T15:15:55.332570Z",
     "iopub.status.idle": "2023-01-20T15:16:05.277261Z",
     "shell.execute_reply": "2023-01-20T15:16:05.276274Z",
     "shell.execute_reply.started": "2023-01-20T15:15:55.332983Z"
    }
   },
   "outputs": [],
   "source": [
    "merge_folders(\"final_crop\",\"/kaggle/input/agriculture-crop-images/crop_images\",\"/kaggle/input/agriculture-crop-images/kag2\",\"/kaggle/input/agriculture-crop-images/some_more_images/some_more_images\")"
   ]
  },
  {
   "cell_type": "markdown",
   "metadata": {
    "execution": {
     "iopub.execute_input": "2023-01-20T15:16:08.443337Z",
     "iopub.status.busy": "2023-01-20T15:16:08.441799Z",
     "iopub.status.idle": "2023-01-20T15:16:08.453217Z",
     "shell.execute_reply": "2023-01-20T15:16:08.451799Z",
     "shell.execute_reply.started": "2023-01-20T15:16:08.443288Z"
    }
   },
   "source": [
    "os.listdir(\"/kaggle/working/final_crop\")"
   ]
  },
  {
   "cell_type": "markdown",
   "metadata": {
    "execution": {
     "iopub.execute_input": "2023-01-19T21:29:56.257957Z",
     "iopub.status.busy": "2023-01-19T21:29:56.257614Z",
     "iopub.status.idle": "2023-01-19T21:29:56.264113Z",
     "shell.execute_reply": "2023-01-19T21:29:56.263262Z",
     "shell.execute_reply.started": "2023-01-19T21:29:56.257930Z"
    }
   },
   "source": [
    "len(os.listdir(\"/kaggle/working/final_crop/wheat\"))"
   ]
  },
  {
   "cell_type": "markdown",
   "metadata": {
    "execution": {
     "iopub.execute_input": "2023-01-17T06:13:22.665993Z",
     "iopub.status.busy": "2023-01-17T06:13:22.664839Z",
     "iopub.status.idle": "2023-01-17T06:13:22.782280Z",
     "shell.execute_reply": "2023-01-17T06:13:22.780655Z",
     "shell.execute_reply.started": "2023-01-17T06:13:22.665873Z"
    }
   },
   "source": [
    "shutil.rmtree(\"final_crop\")"
   ]
  },
  {
   "cell_type": "code",
   "execution_count": 7,
   "metadata": {
    "execution": {
     "iopub.execute_input": "2023-01-17T19:43:41.314029Z",
     "iopub.status.busy": "2023-01-17T19:43:41.310544Z",
     "iopub.status.idle": "2023-01-17T19:43:46.538383Z",
     "shell.execute_reply": "2023-01-17T19:43:46.537379Z",
     "shell.execute_reply.started": "2023-01-17T19:43:41.313987Z"
    }
   },
   "outputs": [],
   "source": [
    "from tensorflow.keras.preprocessing.image import ImageDataGenerator"
   ]
  },
  {
   "cell_type": "code",
   "execution_count": 8,
   "metadata": {
    "execution": {
     "iopub.execute_input": "2023-01-17T19:43:46.540662Z",
     "iopub.status.busy": "2023-01-17T19:43:46.540013Z",
     "iopub.status.idle": "2023-01-17T19:43:46.551457Z",
     "shell.execute_reply": "2023-01-17T19:43:46.548446Z",
     "shell.execute_reply.started": "2023-01-17T19:43:46.540623Z"
    }
   },
   "outputs": [],
   "source": [
    "data_gen = ImageDataGenerator(zoom_range=0.2,\n",
    "                              shear_range=0.3,\n",
    "                              rotation_range=90,\n",
    "                              vertical_flip= True,\n",
    "                              horizontal_flip=True,\n",
    "                              rescale=1/255)"
   ]
  },
  {
   "cell_type": "code",
   "execution_count": 9,
   "metadata": {
    "execution": {
     "iopub.execute_input": "2023-01-17T19:43:46.555881Z",
     "iopub.status.busy": "2023-01-17T19:43:46.553167Z",
     "iopub.status.idle": "2023-01-17T19:43:46.671385Z",
     "shell.execute_reply": "2023-01-17T19:43:46.670364Z",
     "shell.execute_reply.started": "2023-01-17T19:43:46.555844Z"
    }
   },
   "outputs": [
    {
     "name": "stdout",
     "output_type": "stream",
     "text": [
      "Found 1055 images belonging to 5 classes.\n"
     ]
    }
   ],
   "source": [
    "train_data1 = data_gen.flow_from_directory('/kaggle/working/final_crop',\n",
    "                             target_size=(224,224), batch_size=32)"
   ]
  },
  {
   "cell_type": "markdown",
   "metadata": {
    "execution": {
     "iopub.execute_input": "2023-01-14T13:42:24.317832Z",
     "iopub.status.busy": "2023-01-14T13:42:24.317348Z",
     "iopub.status.idle": "2023-01-14T13:42:24.530542Z",
     "shell.execute_reply": "2023-01-14T13:42:24.529636Z",
     "shell.execute_reply.started": "2023-01-14T13:42:24.317790Z"
    }
   },
   "source": [
    "train_data2 = data_gen.flow_from_directory('../input/agriculture-crop-images/kag2',\n",
    "                             target_size=(224,224), batch_size=32)"
   ]
  },
  {
   "cell_type": "code",
   "execution_count": 10,
   "metadata": {
    "execution": {
     "iopub.execute_input": "2023-01-17T19:43:46.674260Z",
     "iopub.status.busy": "2023-01-17T19:43:46.673543Z",
     "iopub.status.idle": "2023-01-17T19:43:46.681102Z",
     "shell.execute_reply": "2023-01-17T19:43:46.680160Z",
     "shell.execute_reply.started": "2023-01-17T19:43:46.674223Z"
    }
   },
   "outputs": [],
   "source": [
    "from tensorflow.keras.layers import Dense, Conv2D, MaxPool2D, Flatten\n",
    "from tensorflow.keras.models import Sequential"
   ]
  },
  {
   "cell_type": "code",
   "execution_count": 11,
   "metadata": {
    "execution": {
     "iopub.execute_input": "2023-01-17T19:43:46.683183Z",
     "iopub.status.busy": "2023-01-17T19:43:46.682682Z",
     "iopub.status.idle": "2023-01-17T19:43:46.698035Z",
     "shell.execute_reply": "2023-01-17T19:43:46.697167Z",
     "shell.execute_reply.started": "2023-01-17T19:43:46.683144Z"
    }
   },
   "outputs": [],
   "source": [
    "from tensorflow.keras.applications.vgg16 import VGG16"
   ]
  },
  {
   "cell_type": "code",
   "execution_count": 12,
   "metadata": {
    "execution": {
     "iopub.execute_input": "2023-01-17T19:43:46.699935Z",
     "iopub.status.busy": "2023-01-17T19:43:46.699530Z",
     "iopub.status.idle": "2023-01-17T19:43:53.302610Z",
     "shell.execute_reply": "2023-01-17T19:43:53.301567Z",
     "shell.execute_reply.started": "2023-01-17T19:43:46.699901Z"
    }
   },
   "outputs": [
    {
     "name": "stderr",
     "output_type": "stream",
     "text": [
      "2023-01-17 19:43:46.809689: I tensorflow/stream_executor/cuda/cuda_gpu_executor.cc:937] successful NUMA node read from SysFS had negative value (-1), but there must be at least one NUMA node, so returning NUMA node zero\n",
      "2023-01-17 19:43:46.896489: I tensorflow/stream_executor/cuda/cuda_gpu_executor.cc:937] successful NUMA node read from SysFS had negative value (-1), but there must be at least one NUMA node, so returning NUMA node zero\n",
      "2023-01-17 19:43:46.897361: I tensorflow/stream_executor/cuda/cuda_gpu_executor.cc:937] successful NUMA node read from SysFS had negative value (-1), but there must be at least one NUMA node, so returning NUMA node zero\n",
      "2023-01-17 19:43:46.898620: I tensorflow/core/platform/cpu_feature_guard.cc:142] This TensorFlow binary is optimized with oneAPI Deep Neural Network Library (oneDNN) to use the following CPU instructions in performance-critical operations:  AVX2 AVX512F FMA\n",
      "To enable them in other operations, rebuild TensorFlow with the appropriate compiler flags.\n",
      "2023-01-17 19:43:46.898912: I tensorflow/stream_executor/cuda/cuda_gpu_executor.cc:937] successful NUMA node read from SysFS had negative value (-1), but there must be at least one NUMA node, so returning NUMA node zero\n",
      "2023-01-17 19:43:46.899604: I tensorflow/stream_executor/cuda/cuda_gpu_executor.cc:937] successful NUMA node read from SysFS had negative value (-1), but there must be at least one NUMA node, so returning NUMA node zero\n",
      "2023-01-17 19:43:46.900274: I tensorflow/stream_executor/cuda/cuda_gpu_executor.cc:937] successful NUMA node read from SysFS had negative value (-1), but there must be at least one NUMA node, so returning NUMA node zero\n",
      "2023-01-17 19:43:48.968905: I tensorflow/stream_executor/cuda/cuda_gpu_executor.cc:937] successful NUMA node read from SysFS had negative value (-1), but there must be at least one NUMA node, so returning NUMA node zero\n",
      "2023-01-17 19:43:48.969713: I tensorflow/stream_executor/cuda/cuda_gpu_executor.cc:937] successful NUMA node read from SysFS had negative value (-1), but there must be at least one NUMA node, so returning NUMA node zero\n",
      "2023-01-17 19:43:48.970408: I tensorflow/stream_executor/cuda/cuda_gpu_executor.cc:937] successful NUMA node read from SysFS had negative value (-1), but there must be at least one NUMA node, so returning NUMA node zero\n",
      "2023-01-17 19:43:48.971035: I tensorflow/core/common_runtime/gpu/gpu_device.cc:1510] Created device /job:localhost/replica:0/task:0/device:GPU:0 with 15401 MB memory:  -> device: 0, name: Tesla P100-PCIE-16GB, pci bus id: 0000:00:04.0, compute capability: 6.0\n"
     ]
    },
    {
     "name": "stdout",
     "output_type": "stream",
     "text": [
      "Downloading data from https://storage.googleapis.com/tensorflow/keras-applications/vgg16/vgg16_weights_tf_dim_ordering_tf_kernels_notop.h5\n",
      "58892288/58889256 [==============================] - 3s 0us/step\n",
      "58900480/58889256 [==============================] - 3s 0us/step\n"
     ]
    }
   ],
   "source": [
    "vgg=VGG16(include_top=False, input_shape=(224,224,3))"
   ]
  },
  {
   "cell_type": "code",
   "execution_count": 26,
   "metadata": {
    "execution": {
     "iopub.execute_input": "2023-01-17T20:05:46.562245Z",
     "iopub.status.busy": "2023-01-17T20:05:46.561871Z",
     "iopub.status.idle": "2023-01-17T20:05:46.614753Z",
     "shell.execute_reply": "2023-01-17T20:05:46.613814Z",
     "shell.execute_reply.started": "2023-01-17T20:05:46.562214Z"
    }
   },
   "outputs": [],
   "source": [
    "from tensorflow.keras.models import Model\n",
    "\n",
    "for layer in vgg.layers:\n",
    "    layer.trainable=False\n",
    "    \n",
    "hidden_layer = Dense(1024,activation='relu')(Flatten()(vgg.output))\n",
    "hidden_layer1 = Dense(512,activation='relu')(hidden_layer)\n",
    "hidden_layer2 = Dense(256,activation='relu')(hidden_layer1)\n",
    "hidden_layer3 = Dense(128,activation='relu')(hidden_layer2)\n",
    "hidden_layer4 = Dense(64,activation='relu')(hidden_layer3)\n",
    "final_layer=Dense(5,activation='softmax')(hidden_layer4)"
   ]
  },
  {
   "cell_type": "markdown",
   "metadata": {
    "execution": {
     "iopub.execute_input": "2023-01-17T06:48:31.104909Z",
     "iopub.status.busy": "2023-01-17T06:48:31.104394Z",
     "iopub.status.idle": "2023-01-17T06:48:31.124463Z",
     "shell.execute_reply": "2023-01-17T06:48:31.123041Z",
     "shell.execute_reply.started": "2023-01-17T06:48:31.104870Z"
    }
   },
   "source": [
    "vgg_model=Model(inputs=vgg.input, outputs=final_layer)\n",
    "vgg_model.summary()"
   ]
  },
  {
   "cell_type": "code",
   "execution_count": 27,
   "metadata": {
    "execution": {
     "iopub.execute_input": "2023-01-17T20:05:48.624299Z",
     "iopub.status.busy": "2023-01-17T20:05:48.623185Z",
     "iopub.status.idle": "2023-01-17T20:05:48.638128Z",
     "shell.execute_reply": "2023-01-17T20:05:48.636809Z",
     "shell.execute_reply.started": "2023-01-17T20:05:48.624255Z"
    }
   },
   "outputs": [
    {
     "name": "stdout",
     "output_type": "stream",
     "text": [
      "Model: \"model_1\"\n",
      "_________________________________________________________________\n",
      "Layer (type)                 Output Shape              Param #   \n",
      "=================================================================\n",
      "input_1 (InputLayer)         [(None, 224, 224, 3)]     0         \n",
      "_________________________________________________________________\n",
      "block1_conv1 (Conv2D)        (None, 224, 224, 64)      1792      \n",
      "_________________________________________________________________\n",
      "block1_conv2 (Conv2D)        (None, 224, 224, 64)      36928     \n",
      "_________________________________________________________________\n",
      "block1_pool (MaxPooling2D)   (None, 112, 112, 64)      0         \n",
      "_________________________________________________________________\n",
      "block2_conv1 (Conv2D)        (None, 112, 112, 128)     73856     \n",
      "_________________________________________________________________\n",
      "block2_conv2 (Conv2D)        (None, 112, 112, 128)     147584    \n",
      "_________________________________________________________________\n",
      "block2_pool (MaxPooling2D)   (None, 56, 56, 128)       0         \n",
      "_________________________________________________________________\n",
      "block3_conv1 (Conv2D)        (None, 56, 56, 256)       295168    \n",
      "_________________________________________________________________\n",
      "block3_conv2 (Conv2D)        (None, 56, 56, 256)       590080    \n",
      "_________________________________________________________________\n",
      "block3_conv3 (Conv2D)        (None, 56, 56, 256)       590080    \n",
      "_________________________________________________________________\n",
      "block3_pool (MaxPooling2D)   (None, 28, 28, 256)       0         \n",
      "_________________________________________________________________\n",
      "block4_conv1 (Conv2D)        (None, 28, 28, 512)       1180160   \n",
      "_________________________________________________________________\n",
      "block4_conv2 (Conv2D)        (None, 28, 28, 512)       2359808   \n",
      "_________________________________________________________________\n",
      "block4_conv3 (Conv2D)        (None, 28, 28, 512)       2359808   \n",
      "_________________________________________________________________\n",
      "block4_pool (MaxPooling2D)   (None, 14, 14, 512)       0         \n",
      "_________________________________________________________________\n",
      "block5_conv1 (Conv2D)        (None, 14, 14, 512)       2359808   \n",
      "_________________________________________________________________\n",
      "block5_conv2 (Conv2D)        (None, 14, 14, 512)       2359808   \n",
      "_________________________________________________________________\n",
      "block5_conv3 (Conv2D)        (None, 14, 14, 512)       2359808   \n",
      "_________________________________________________________________\n",
      "block5_pool (MaxPooling2D)   (None, 7, 7, 512)         0         \n",
      "_________________________________________________________________\n",
      "flatten_1 (Flatten)          (None, 25088)             0         \n",
      "_________________________________________________________________\n",
      "dense_3 (Dense)              (None, 1024)              25691136  \n",
      "_________________________________________________________________\n",
      "dense_4 (Dense)              (None, 512)               524800    \n",
      "_________________________________________________________________\n",
      "dense_5 (Dense)              (None, 256)               131328    \n",
      "_________________________________________________________________\n",
      "dense_6 (Dense)              (None, 128)               32896     \n",
      "_________________________________________________________________\n",
      "dense_7 (Dense)              (None, 64)                8256      \n",
      "_________________________________________________________________\n",
      "dense_8 (Dense)              (None, 5)                 325       \n",
      "=================================================================\n",
      "Total params: 41,103,429\n",
      "Trainable params: 26,388,741\n",
      "Non-trainable params: 14,714,688\n",
      "_________________________________________________________________\n"
     ]
    }
   ],
   "source": [
    "vgg_model=Model(inputs=vgg.input, outputs=final_layer)\n",
    "vgg_model.summary()"
   ]
  },
  {
   "cell_type": "code",
   "execution_count": 28,
   "metadata": {
    "execution": {
     "iopub.execute_input": "2023-01-17T20:05:50.801232Z",
     "iopub.status.busy": "2023-01-17T20:05:50.800876Z",
     "iopub.status.idle": "2023-01-17T20:15:21.263733Z",
     "shell.execute_reply": "2023-01-17T20:15:21.262660Z",
     "shell.execute_reply.started": "2023-01-17T20:05:50.801204Z"
    }
   },
   "outputs": [
    {
     "name": "stdout",
     "output_type": "stream",
     "text": [
      "Epoch 1/40\n",
      "33/33 [==============================] - 15s 424ms/step - loss: 3.4837 - accuracy: 0.2152\n",
      "Epoch 2/40\n",
      "33/33 [==============================] - 14s 412ms/step - loss: 1.5347 - accuracy: 0.3355\n",
      "Epoch 3/40\n",
      "33/33 [==============================] - 14s 423ms/step - loss: 1.3956 - accuracy: 0.3924\n",
      "Epoch 4/40\n",
      "33/33 [==============================] - 14s 416ms/step - loss: 1.3419 - accuracy: 0.4597\n",
      "Epoch 5/40\n",
      "33/33 [==============================] - 14s 431ms/step - loss: 1.2628 - accuracy: 0.5118\n",
      "Epoch 6/40\n",
      "33/33 [==============================] - 14s 410ms/step - loss: 1.1674 - accuracy: 0.5441\n",
      "Epoch 7/40\n",
      "33/33 [==============================] - 14s 423ms/step - loss: 1.0736 - accuracy: 0.6028\n",
      "Epoch 8/40\n",
      "33/33 [==============================] - 14s 418ms/step - loss: 0.8851 - accuracy: 0.6493\n",
      "Epoch 9/40\n",
      "33/33 [==============================] - 14s 426ms/step - loss: 0.8528 - accuracy: 0.6957\n",
      "Epoch 10/40\n",
      "33/33 [==============================] - 14s 411ms/step - loss: 0.7681 - accuracy: 0.7223\n",
      "Epoch 11/40\n",
      "33/33 [==============================] - 14s 408ms/step - loss: 0.8206 - accuracy: 0.7081\n",
      "Epoch 12/40\n",
      "33/33 [==============================] - 14s 434ms/step - loss: 0.7041 - accuracy: 0.7450\n",
      "Epoch 13/40\n",
      "33/33 [==============================] - 14s 409ms/step - loss: 0.6431 - accuracy: 0.7592\n",
      "Epoch 14/40\n",
      "33/33 [==============================] - 14s 429ms/step - loss: 0.6657 - accuracy: 0.7488\n",
      "Epoch 15/40\n",
      "33/33 [==============================] - 14s 421ms/step - loss: 0.5766 - accuracy: 0.7896\n",
      "Epoch 16/40\n",
      "33/33 [==============================] - 14s 433ms/step - loss: 0.4872 - accuracy: 0.8095\n",
      "Epoch 17/40\n",
      "33/33 [==============================] - 14s 409ms/step - loss: 0.5173 - accuracy: 0.8095\n",
      "Epoch 18/40\n",
      "33/33 [==============================] - 14s 412ms/step - loss: 0.4526 - accuracy: 0.8284\n",
      "Epoch 19/40\n",
      "33/33 [==============================] - 14s 411ms/step - loss: 0.5184 - accuracy: 0.8227\n",
      "Epoch 20/40\n",
      "33/33 [==============================] - 14s 426ms/step - loss: 0.4930 - accuracy: 0.8559\n",
      "Epoch 21/40\n",
      "33/33 [==============================] - 14s 425ms/step - loss: 0.4413 - accuracy: 0.8502\n",
      "Epoch 22/40\n",
      "33/33 [==============================] - 14s 409ms/step - loss: 0.4091 - accuracy: 0.8455\n",
      "Epoch 23/40\n",
      "33/33 [==============================] - 14s 420ms/step - loss: 0.3739 - accuracy: 0.8682\n",
      "Epoch 24/40\n",
      "33/33 [==============================] - 14s 410ms/step - loss: 0.3468 - accuracy: 0.8796\n",
      "Epoch 25/40\n",
      "33/33 [==============================] - 14s 430ms/step - loss: 0.3827 - accuracy: 0.8910\n",
      "Epoch 26/40\n",
      "33/33 [==============================] - 14s 416ms/step - loss: 0.4207 - accuracy: 0.8739\n",
      "Epoch 27/40\n",
      "33/33 [==============================] - 14s 432ms/step - loss: 0.2685 - accuracy: 0.9109\n",
      "Epoch 28/40\n",
      "33/33 [==============================] - 14s 400ms/step - loss: 0.3635 - accuracy: 0.8995\n",
      "Epoch 29/40\n",
      "33/33 [==============================] - 14s 435ms/step - loss: 0.2906 - accuracy: 0.8976\n",
      "Epoch 30/40\n",
      "33/33 [==============================] - 14s 412ms/step - loss: 0.3365 - accuracy: 0.8986\n",
      "Epoch 31/40\n",
      "33/33 [==============================] - 14s 416ms/step - loss: 0.2237 - accuracy: 0.9261\n",
      "Epoch 32/40\n",
      "33/33 [==============================] - 14s 425ms/step - loss: 0.2543 - accuracy: 0.9204\n",
      "Epoch 33/40\n",
      "33/33 [==============================] - 14s 417ms/step - loss: 0.3372 - accuracy: 0.9090\n",
      "Epoch 34/40\n",
      "33/33 [==============================] - 14s 425ms/step - loss: 0.1780 - accuracy: 0.9431\n",
      "Epoch 35/40\n",
      "33/33 [==============================] - 14s 409ms/step - loss: 0.2451 - accuracy: 0.9251\n",
      "Epoch 36/40\n",
      "33/33 [==============================] - 14s 427ms/step - loss: 0.2422 - accuracy: 0.9175\n",
      "Epoch 37/40\n",
      "33/33 [==============================] - 14s 413ms/step - loss: 0.2721 - accuracy: 0.9261\n",
      "Epoch 38/40\n",
      "33/33 [==============================] - 14s 423ms/step - loss: 0.3275 - accuracy: 0.9156\n",
      "Epoch 39/40\n",
      "33/33 [==============================] - 14s 420ms/step - loss: 0.2110 - accuracy: 0.9308\n",
      "Epoch 40/40\n",
      "33/33 [==============================] - 14s 420ms/step - loss: 0.2482 - accuracy: 0.9365\n"
     ]
    },
    {
     "data": {
      "text/plain": [
       "<keras.callbacks.History at 0x7f6d60059f90>"
      ]
     },
     "execution_count": 28,
     "metadata": {},
     "output_type": "execute_result"
    }
   ],
   "source": [
    "vgg_model.compile(loss='categorical_crossentropy', metrics=['accuracy'])\n",
    "vgg_model.fit_generator(train_data1,epochs=40)"
   ]
  },
  {
   "cell_type": "code",
   "execution_count": 29,
   "metadata": {
    "execution": {
     "iopub.execute_input": "2023-01-17T20:15:26.337631Z",
     "iopub.status.busy": "2023-01-17T20:15:26.337276Z",
     "iopub.status.idle": "2023-01-17T20:15:26.344605Z",
     "shell.execute_reply": "2023-01-17T20:15:26.343448Z",
     "shell.execute_reply.started": "2023-01-17T20:15:26.337600Z"
    }
   },
   "outputs": [
    {
     "data": {
      "text/plain": [
       "{'jute': 0, 'maize': 1, 'rice': 2, 'sugarcane': 3, 'wheat': 4}"
      ]
     },
     "execution_count": 29,
     "metadata": {},
     "output_type": "execute_result"
    }
   ],
   "source": [
    "train_data1.class_indices"
   ]
  },
  {
   "cell_type": "code",
   "execution_count": 30,
   "metadata": {
    "execution": {
     "iopub.execute_input": "2023-01-17T20:15:30.227178Z",
     "iopub.status.busy": "2023-01-17T20:15:30.226808Z",
     "iopub.status.idle": "2023-01-17T20:15:30.232138Z",
     "shell.execute_reply": "2023-01-17T20:15:30.230976Z",
     "shell.execute_reply.started": "2023-01-17T20:15:30.227146Z"
    }
   },
   "outputs": [],
   "source": [
    "import cv2"
   ]
  },
  {
   "cell_type": "code",
   "execution_count": 31,
   "metadata": {
    "execution": {
     "iopub.execute_input": "2023-01-17T20:15:31.397921Z",
     "iopub.status.busy": "2023-01-17T20:15:31.397545Z",
     "iopub.status.idle": "2023-01-17T20:15:31.404282Z",
     "shell.execute_reply": "2023-01-17T20:15:31.403211Z",
     "shell.execute_reply.started": "2023-01-17T20:15:31.397889Z"
    }
   },
   "outputs": [],
   "source": [
    "def predict(path):\n",
    "    img=cv2.imread(path)\n",
    "    img=cv2.resize(img,(224,224))/255\n",
    "    y=vgg_model.predict_on_batch(img.reshape(-1,224,224,3)).argmax()\n",
    "    if y==0:\n",
    "        return 'jute'\n",
    "    if y==1:\n",
    "        return 'maize'\n",
    "    if y==2:\n",
    "        return 'rice'\n",
    "    if y==3:\n",
    "        return 'sugarcane'\n",
    "    if y==4:\n",
    "        return 'wheat'"
   ]
  },
  {
   "cell_type": "code",
   "execution_count": 32,
   "metadata": {
    "execution": {
     "iopub.execute_input": "2023-01-17T20:15:32.766781Z",
     "iopub.status.busy": "2023-01-17T20:15:32.766409Z",
     "iopub.status.idle": "2023-01-17T20:15:32.773328Z",
     "shell.execute_reply": "2023-01-17T20:15:32.772088Z",
     "shell.execute_reply.started": "2023-01-17T20:15:32.766733Z"
    }
   },
   "outputs": [],
   "source": [
    "def accuracy(path):\n",
    "    imgs=os.listdir(path)\n",
    "    true = []\n",
    "    false = []\n",
    "    for img in imgs:\n",
    "        yp=predict(path+img)\n",
    "        if yp.upper() in img.upper():\n",
    "            true.append('a')\n",
    "        else:\n",
    "            false.append('b')\n",
    "    return len(true)/(len(true)+len(false))\n",
    "    "
   ]
  },
  {
   "cell_type": "code",
   "execution_count": 33,
   "metadata": {
    "execution": {
     "iopub.execute_input": "2023-01-17T20:15:34.156509Z",
     "iopub.status.busy": "2023-01-17T20:15:34.156144Z",
     "iopub.status.idle": "2023-01-17T20:15:35.288750Z",
     "shell.execute_reply": "2023-01-17T20:15:35.287876Z",
     "shell.execute_reply.started": "2023-01-17T20:15:34.156478Z"
    }
   },
   "outputs": [
    {
     "data": {
      "text/plain": [
       "0.5098039215686274"
      ]
     },
     "execution_count": 33,
     "metadata": {},
     "output_type": "execute_result"
    }
   ],
   "source": [
    "accuracy('/kaggle/input/agriculture-crop-images/test_crop_image/')"
   ]
  },
  {
   "cell_type": "code",
   "execution_count": 34,
   "metadata": {
    "execution": {
     "iopub.execute_input": "2023-01-17T20:15:37.200283Z",
     "iopub.status.busy": "2023-01-17T20:15:37.199923Z",
     "iopub.status.idle": "2023-01-17T20:15:37.314937Z",
     "shell.execute_reply": "2023-01-17T20:15:37.314059Z",
     "shell.execute_reply.started": "2023-01-17T20:15:37.200256Z"
    }
   },
   "outputs": [
    {
     "data": {
      "text/plain": [
       "0.6666666666666666"
      ]
     },
     "execution_count": 34,
     "metadata": {},
     "output_type": "execute_result"
    }
   ],
   "source": [
    "accuracy('/kaggle/input/test-crop/crop/')"
   ]
  },
  {
   "cell_type": "code",
   "execution_count": null,
   "metadata": {},
   "outputs": [],
   "source": [
    "\n",
    "    "
   ]
  }
 ],
 "metadata": {
  "kernelspec": {
   "display_name": "Python 3 (ipykernel)",
   "language": "python",
   "name": "python3"
  },
  "language_info": {
   "codemirror_mode": {
    "name": "ipython",
    "version": 3
   },
   "file_extension": ".py",
   "mimetype": "text/x-python",
   "name": "python",
   "nbconvert_exporter": "python",
   "pygments_lexer": "ipython3",
   "version": "3.9.12"
  }
 },
 "nbformat": 4,
 "nbformat_minor": 4
}
